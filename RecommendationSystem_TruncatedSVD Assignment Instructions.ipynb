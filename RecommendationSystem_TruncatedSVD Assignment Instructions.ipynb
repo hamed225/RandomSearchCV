{
 "cells": [
  {
   "cell_type": "markdown",
   "metadata": {
    "colab_type": "text",
    "id": "LkXTlOM142FH"
   },
   "source": [
    "# SGD Algorithm to predict movie ratings"
   ]
  },
  {
   "cell_type": "markdown",
   "metadata": {
    "colab_type": "text",
    "id": "5pveXiAD42FJ"
   },
   "source": [
    "<pre>\n",
    "1. Download the data from <a href='https://drive.google.com/open?id=1-1z7iDB52cB6_JpO7Dqa-eOYSs-mivpq'> here </a>\n",
    "2. the data will be of this formate, each data point is represented as a triplet of user_id, movie_id and rating \n",
    "<table>\n",
    "<tr><th>user_id</th><th>movie_id</th><th>rating</th></tr>\n",
    "<tr><td>77</td><td>236</td><td>3</td></tr>\n",
    "<tr><td>471</td><td>208</td><td>5</td></tr>\n",
    "<tr><td>641</td><td>401</td><td>4</td></tr>\n",
    "<tr><td>31</td><td>298</td><td>4</td></tr>\n",
    "<tr><td>58</td><td>504</td><td>5</td></tr>\n",
    "<tr><td>235</td><td>727</td><td>5</td></tr>\n",
    "</table>\n",
    "<h3>task 1: Predict the rating for a given (user_id, movie_id) pair</h3>\n",
    "</pre>\n",
    "<ul>\n",
    "<li><span class=\"math\">\\(\\mu\\)</span> : scalar mean rating</li>\n",
    "<li><span class=\"math\">\\(b_i\\)</span> : scalar bias term for user <span class=\"math\">\\(i\\)</span></li>\n",
    "<li><span class=\"math\">\\(c_j\\)</span> : scalar bias term for movie <span class=\"math\">\\(j\\)</span></li>\n",
    "<li><span class=\"math\">\\(u_i\\)</span> : K-dimensional vector for user <span class=\"math\">\\(i\\)</span></li>\n",
    "<li><span class=\"math\">\\(v_j\\)</span> : K-dimensional vector for movie <span class=\"math\">\\(j\\)</span></li>\n",
    "</ul>\n",
    "then the predicted rating $\\hat{y}_{ij}$ for user i, movied j pair is calcuated as $\\hat{y}_{ij} = \\mu + b_i + c_j + u_i^T v_j$ here we will be finding the best values of $b_{i}$ and $c_{j}$ using SGD algorithm with the optimization problem for N users and M movies is defined as\n",
    "\n",
    "\n",
    "$$\n",
    "L = \\min_{ b, c, \\{ u_i \\}_{i=1}^N, \\{ v_j \\}_{j=1}^M}\n",
    "\\quad\n",
    "\\alpha \\Big(\n",
    "    \\sum_{j} \\sum_{k} v_{jk}^2 \n",
    "    + \\sum_{i} \\sum_{k} u_{ik}^2 \n",
    "    + \\sum_{i} b_i^2\n",
    "    + \\sum_{j} c_i^2\n",
    "    \\Big)\n",
    "+ \\sum_{i,j \\in \\mathcal{I}^{\\text{train}}}\n",
    "    (y_{ij} - \\mu - b_i - c_j - u_i^T v_j)^2\n",
    "$$\n",
    "\n",
    "### TASK: 1\n",
    "__SGD Algorithm to minimize the loss__\n",
    "1. for each unique user initilize a bias value $B_{i}$ randomly, so if we have $N$ users $B$ will be a $N$ dimensional vector, the $i^{th}$ value of the $B$ will corresponds to the bias term for $i^{th}$ user\n",
    "\n",
    "2. for each unique movie initilize a bias value $C_{j}$ randomly, so if we have $M$ movies $C$ will be a $M$ dimensional vector, the $j^{th}$ value of the $C$ will corresponds to the bias term for $j^{th}$ movie\n",
    "\n",
    "3. Construct adjacency matrix with the given data, assumeing its  <a href='https://en.wikipedia.org/wiki/Bipartite_graph'> weighted un-directed bi-partited graph</a> and the weight of each edge is the rating given by user to the movie\n",
    "<img src='https://i.imgur.com/rmUCGMb.jpg' width=200>\n",
    "you can construct this matrix like $A[i][j]=r_{ij}$ here $i$ is user_id, $j$ is movie_id and $r_{ij}$ is rating given by user $i$ to the movie $j$\n",
    "\n",
    "4. we will Apply SVD decomposition on the Adjaceny matrix <a href='https://stackoverflow.com/a/31528944/4084039'>link1</a>, <a href='https://machinelearningmastery.com/singular-value-decomposition-for-machine-learning/'> link2</a> and get three matrices $U, \\sum, V$ such that $U \\times \\sum \\times V^T = A$, <br> \n",
    "if $A$ is of dimensions $N \\times M$ then <br>\n",
    "U is of $N \\times k$, <br>\n",
    "$\\sum$ is of $k \\times k$ and <br>\n",
    "$V$ is $M \\times k$ dimensions. <br>\n",
    "\n",
    "5. So the matrix $U$ can be represented as matrix representation of users, where each row $u_{i}$ represents a k-dimensional vector for a user\n",
    "\n",
    "6. So the matrix $V$ can be represented as matrix representation of movies, where each row $v_{j}$ represents a k-dimensional vector for a movie\n",
    "\n",
    "7. $\\mu$ represents the mean of all the rating given in the dataset\n",
    "</pre>\n",
    "\n",
    "<br>8.\n",
    "<code>\n",
    "for each epoch:\n",
    "    for each pair of (user, movie):\n",
    "        b_i =  b_i - learning_rate * dL/db_i\n",
    "        c_j =  c_j - learning_rate * dL/dc_j\n",
    "    predict the ratings with formula </code> $\\hat{y}_{ij} = \\mu + b_i + c_j + \\text{dot_product}(u_i , v_j)$\n",
    "    <code>\n",
    "    print the mean squared error with predicted ratings\n",
    "    </code>\n",
    "\n",
    "9. you can choose any learning rate and regularization term in the range $10^{-3}  \\text{ to } 10^2$  <br>\n",
    "\n",
    "10. __bonus__: instead of using SVD decomposition you can learn the vectors $u_i$, $v_j$ with the help of SGD algo similar to $b_i$ and $c_j$ \n",
    "### TASK: 2\n",
    "\n",
    "As we know U is the learned matrix of user vectors, with its i-th row as the vector ui for user i. Each row of U can be seen as a \"feature vector\" for a particular user.\n",
    "\n",
    "The question we'd like to investigate is this: do our computed per-user features that are optimized for predicting movie ratings contain anything to do with gender?\n",
    "\n",
    "The provided data file <a href='https://drive.google.com/open?id=1PHFdJh_4gIPiLH5Q4UErH8GK71hTrzlY'>user_info.csv</a> contains an is_male column indicating which users in the dataset are male. Can you predict this signal given the features U?\n",
    "\n",
    "\n",
    "> __Note 1__ : there is no train test split in the data, the goal of this assignment is to give an intution about how to do matrix factorization with the help of SGD and application of truncated SVD. for better understanding of the collabarative fillerting please check netflix case study. <br><br>\n",
    "> __Note 2__ : Check if scaling of $U$, $V$ matrices improve the metric "
   ]
  },
  {
   "cell_type": "code",
   "execution_count": 33,
   "metadata": {
    "colab": {},
    "colab_type": "code",
    "id": "1GB_NZT542FL",
    "outputId": "c33c2d4a-7af2-4c2c-9249-b0167a086a50",
    "scrolled": true
   },
   "outputs": [
    {
     "data": {
      "text/plain": [
       "(89992, 3)"
      ]
     },
     "execution_count": 33,
     "metadata": {},
     "output_type": "execute_result"
    }
   ],
   "source": [
    "import pandas as pd\n",
    "from tqdm import tqdm\n",
    "data = pd.read_csv('C:\\\\Users\\\\nsuguru\\\\Desktop\\\\COBOL-master\\\\ratings_train.csv')\n",
    "data.shape"
   ]
  },
  {
   "cell_type": "code",
   "execution_count": 34,
   "metadata": {},
   "outputs": [],
   "source": [
    "#print(len(data))\n",
    "A=[]\n",
    "for i in range(max(data.user_id)+1):\n",
    "    a=[]\n",
    "    for j in range(max(data.item_id)+1):\n",
    "        p=[0]\n",
    "        a.extend(p)    \n",
    "    A.append(a) "
   ]
  },
  {
   "cell_type": "code",
   "execution_count": 35,
   "metadata": {},
   "outputs": [
    {
     "name": "stdout",
     "output_type": "stream",
     "text": [
      "943\n",
      "1681\n"
     ]
    }
   ],
   "source": [
    "print(len(A))\n",
    "print(len(A[0]))"
   ]
  },
  {
   "cell_type": "code",
   "execution_count": 36,
   "metadata": {},
   "outputs": [],
   "source": [
    "for i in range(len(data)):\n",
    "    #print(i)\n",
    "    A[data.loc[:,'user_id'][i]][data.loc[:,'item_id'][i]]=data.loc[:,'rating'][0]\n",
    "    "
   ]
  },
  {
   "cell_type": "code",
   "execution_count": 37,
   "metadata": {
    "colab": {},
    "colab_type": "code",
    "id": "t_lHKVD342FP",
    "outputId": "2d8b1b67-4692-4deb-99be-e65f821a017b"
   },
   "outputs": [
    {
     "name": "stdout",
     "output_type": "stream",
     "text": [
      "(943, 5)\n",
      "(5,)\n",
      "(1681, 5)\n"
     ]
    }
   ],
   "source": [
    "from sklearn.utils.extmath import randomized_svd\n",
    "import numpy as np \n",
    "matrix=np.asarray(A)\n",
    "U, Sigma, VT = randomized_svd(matrix, n_components=5,n_iter=5, random_state=None)\n",
    "print(U.shape)\n",
    "print(Sigma.shape)\n",
    "print(VT.T.shape)"
   ]
  },
  {
   "cell_type": "code",
   "execution_count": 38,
   "metadata": {},
   "outputs": [],
   "source": [
    "MYU=data.loc[:,\"rating\"].mean()"
   ]
  },
  {
   "cell_type": "code",
   "execution_count": 41,
   "metadata": {},
   "outputs": [
    {
     "name": "stdout",
     "output_type": "stream",
     "text": [
      "epoch: 0\n",
      "mse calculated: 0.38282566025412046\n",
      "epoch: 1\n",
      "mse calculated: 0.3754111221877889\n",
      "epoch: 2\n",
      "mse calculated: 0.3748442573352695\n",
      "epoch: 3\n",
      "mse calculated: 0.37461258435042827\n",
      "epoch: 4\n",
      "mse calculated: 0.3744935453661427\n",
      "epoch: 5\n",
      "mse calculated: 0.37442553634863424\n",
      "epoch: 6\n",
      "mse calculated: 0.374384248422526\n",
      "epoch: 7\n",
      "mse calculated: 0.3743581624500191\n",
      "epoch: 8\n",
      "mse calculated: 0.3743411900312523\n",
      "epoch: 9\n",
      "mse calculated: 0.3743298815049374\n",
      "epoch: 10\n",
      "mse calculated: 0.37432218961749614\n",
      "epoch: 11\n",
      "mse calculated: 0.3743168591415832\n",
      "epoch: 12\n",
      "mse calculated: 0.37431310124204664\n",
      "epoch: 13\n",
      "mse calculated: 0.3743104099947871\n",
      "epoch: 14\n",
      "mse calculated: 0.3743084549674728\n",
      "epoch: 15\n",
      "mse calculated: 0.37430701659403837\n",
      "epoch: 16\n",
      "mse calculated: 0.3743059464975613\n",
      "epoch: 17\n",
      "mse calculated: 0.37430514273002613\n",
      "epoch: 18\n",
      "mse calculated: 0.3743045340980063\n",
      "epoch: 19\n",
      "mse calculated: 0.37430407010393335\n"
     ]
    }
   ],
   "source": [
    "epoch=20\n",
    "learning_rate=0.1\n",
    "alpha=0.1\n",
    "import numpy as np\n",
    "b = np.random.normal(0, 0.1, size=(max(data.user_id)+1))\n",
    "c = np.random.normal(0, 0.1, size=(max(data.item_id)+1))\n",
    "for L in range(epoch):\n",
    "    mse=0\n",
    "    mse_1=0\n",
    "    for K in range(len(data)):\n",
    "        rating=data.loc[:,'rating'][K]\n",
    "        yij=MYU+b[data.loc[:,'user_id'][K]]+c[data.loc[:,'item_id'][K]]+(np.dot(U[data.loc[:,'user_id'][K]],VT.T[data.loc[:,'user_id'][K]]))\n",
    "        db=(2*alpha*b[data.loc[:,'user_id'][K]])-2*(rating-yij)\n",
    "        dc=(2*alpha*c[data.loc[:,'item_id'][K]])-2*(rating-yij)\n",
    "        b[data.loc[:,'user_id'][K]] =  b[data.loc[:,'user_id'][K]] - learning_rate * db\n",
    "        c[data.loc[:,'item_id'][K]] =  c[data.loc[:,'item_id'][K]]- learning_rate * dc\n",
    "        yij=MYU+b[data.loc[:,'user_id'][K]]+c[data.loc[:,'item_id'][K]]+(np.dot(U[data.loc[:,'user_id'][K]],VT.T[data.loc[:,'user_id'][K]]))\n",
    "        mse=mse+((rating-yij)**2)\n",
    "    print('epoch:',L)\n",
    "    print('mse calculated:',mse/len(data))"
   ]
  },
  {
   "cell_type": "code",
   "execution_count": null,
   "metadata": {},
   "outputs": [],
   "source": [
    "data_1 = pd.read_csv('C:\\\\Users\\\\nsuguru\\\\Desktop\\\\COBOL-master\\\\user_info.txt')\n",
    "data_1.shape"
   ]
  },
  {
   "cell_type": "code",
   "execution_count": null,
   "metadata": {},
   "outputs": [],
   "source": [
    "data_1.loc[:,'is_male']"
   ]
  },
  {
   "cell_type": "code",
   "execution_count": null,
   "metadata": {},
   "outputs": [],
   "source": [
    "from sklearn import linear_model\n",
    "X=np.asarray(U)\n",
    "y=data_1.loc[:,'is_male']\n",
    "clf = linear_model.SGDClassifier(eta0=0.0001, alpha=0.0001, loss='log', random_state=15, penalty='l2', tol=1e-3, verbose=2, learning_rate='constant')\n",
    "clf\n",
    "clf.fit(X=X, y=y)\n",
    "clf.coef_, clf.coef_.shape, clf.intercept_"
   ]
  },
  {
   "cell_type": "code",
   "execution_count": null,
   "metadata": {},
   "outputs": [],
   "source": []
  }
 ],
 "metadata": {
  "colab": {
   "name": "RecommendationSystem_TruncatedSVD Assignment Instructions.ipynb",
   "provenance": [],
   "version": "0.3.2"
  },
  "kernelspec": {
   "display_name": "Python 3",
   "language": "python",
   "name": "python3"
  },
  "language_info": {
   "codemirror_mode": {
    "name": "ipython",
    "version": 3
   },
   "file_extension": ".py",
   "mimetype": "text/x-python",
   "name": "python",
   "nbconvert_exporter": "python",
   "pygments_lexer": "ipython3",
   "version": "3.7.3"
  }
 },
 "nbformat": 4,
 "nbformat_minor": 1
}
